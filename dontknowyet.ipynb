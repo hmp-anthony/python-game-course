{
 "cells": [
  {
   "cell_type": "code",
   "execution_count": 25,
   "id": "d6f7c100-b3a4-4b5a-a847-7f2a9aceb869",
   "metadata": {},
   "outputs": [],
   "source": [
    "import pygame\n",
    "pygame.init()\n",
    "font = pygame.font.SysFont('tahoma', 20)\n",
    "\n",
    "BLACK = (0, 0, 0)\n",
    " \n",
    "WIDTH, HEIGHT = 900, 600\n",
    "screen = pygame.display.set_mode((WIDTH, HEIGHT))\n",
    "pygame.display.set_caption(\"DKY\")\n",
    "\n",
    "class Player:\n",
    "    def __init__(self, pos_x, pos_y, radius, speed, color):\n",
    "        None\n",
    "        # finish this init ... \n",
    "        \n",
    "class wall:\n",
    "    def __init__(self, begin, end, color):\n",
    "        None\n",
    "        # finish this too ...\n",
    "\n",
    "def main():\n",
    "    running = True\n",
    "\n",
    "    # instantiate player and floor here ...\n",
    "    \n",
    "    while running:\n",
    "        screen.fill(BLACK)\n",
    "\n",
    "        for event in pygame.event.get():\n",
    "            if event.type == pygame.QUIT:\n",
    "                running = False\n",
    "\n",
    "if __name__ == \"__main__\":\n",
    "    main()\n",
    "    pygame.quit()"
   ]
  },
  {
   "cell_type": "code",
   "execution_count": null,
   "id": "1c727f67-83a0-42ea-8931-b86de1aff0be",
   "metadata": {},
   "outputs": [],
   "source": []
  }
 ],
 "metadata": {
  "kernelspec": {
   "display_name": "Python 3 (ipykernel)",
   "language": "python",
   "name": "python3"
  },
  "language_info": {
   "codemirror_mode": {
    "name": "ipython",
    "version": 3
   },
   "file_extension": ".py",
   "mimetype": "text/x-python",
   "name": "python",
   "nbconvert_exporter": "python",
   "pygments_lexer": "ipython3",
   "version": "3.11.2"
  }
 },
 "nbformat": 4,
 "nbformat_minor": 5
}
