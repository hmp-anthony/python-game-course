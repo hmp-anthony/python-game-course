{
 "cells": [
  {
   "cell_type": "code",
   "execution_count": 5,
   "id": "d3b63821-249d-4bdf-9e02-fa1ea1a7f79c",
   "metadata": {},
   "outputs": [],
   "source": [
    "import pygame\n",
    "import math\n",
    "\n",
    "pygame.init()\n",
    "\n",
    "BLACK = (0, 0, 0)\n",
    "WHITE = (255, 255, 255)\n",
    "\n",
    "WIDTH, HEIGHT = 800, 700\n",
    "my_font = pygame.font.SysFont('dejavuserif', 30)\n",
    "\n",
    "screen = pygame.display.set_mode((WIDTH, HEIGHT))\n",
    "pygame.display.set_caption(\"Pong\")\n",
    "\n",
    "class Paddle(pygame.sprite.Sprite):\n",
    "    def __init__(self):\n",
    "        pygame.sprite.Sprite.__init__(self)\n",
    "\n",
    "\n",
    " \n",
    "def main():\n",
    "    running = True\n",
    "    \n",
    "    while running:\n",
    "        screen.fill(BLACK)\n",
    "        \n",
    "        for event in pygame.event.get():\n",
    "            if event.type == pygame.QUIT:\n",
    "                running = False\n",
    "    \n",
    "        pygame.display.update()\n",
    "\n",
    "\n",
    "if __name__ == \"__main__\":\n",
    "    main()\n",
    "    pygame.quit()"
   ]
  },
  {
   "cell_type": "code",
   "execution_count": null,
   "id": "fd4b2948-f9cc-4042-8070-b3cc2c527bf2",
   "metadata": {},
   "outputs": [],
   "source": []
  }
 ],
 "metadata": {
  "kernelspec": {
   "display_name": "Python 3 (ipykernel)",
   "language": "python",
   "name": "python3"
  },
  "language_info": {
   "codemirror_mode": {
    "name": "ipython",
    "version": 3
   },
   "file_extension": ".py",
   "mimetype": "text/x-python",
   "name": "python",
   "nbconvert_exporter": "python",
   "pygments_lexer": "ipython3",
   "version": "3.11.2"
  }
 },
 "nbformat": 4,
 "nbformat_minor": 5
}
