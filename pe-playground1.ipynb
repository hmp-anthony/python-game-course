{
 "cells": [
  {
   "cell_type": "markdown",
   "id": "8b7c54f5-3e91-446f-999d-ace1dbd3dbac",
   "metadata": {},
   "source": [
    "# Problem 2"
   ]
  },
  {
   "cell_type": "code",
   "execution_count": 1,
   "id": "17675636-4541-43ca-8240-e16cb5369376",
   "metadata": {},
   "outputs": [],
   "source": [
    "def fib(n):\n",
    "    if n == 1:\n",
    "        return 1\n",
    "    if n == 2:\n",
    "        return 2\n",
    "    return fib(n - 1) + fib(n - 2)\n"
   ]
  },
  {
   "cell_type": "code",
   "execution_count": 12,
   "id": "78b19de0-28c8-49bd-9c19-5b0014e0be72",
   "metadata": {},
   "outputs": [
    {
     "data": {
      "text/plain": [
       "3524578"
      ]
     },
     "execution_count": 12,
     "metadata": {},
     "output_type": "execute_result"
    }
   ],
   "source": [
    "fib(32)"
   ]
  },
  {
   "cell_type": "code",
   "execution_count": 13,
   "id": "397feecc-09d5-4617-8a7c-047186b5fddc",
   "metadata": {},
   "outputs": [
    {
     "data": {
      "text/plain": [
       "5702887"
      ]
     },
     "execution_count": 13,
     "metadata": {},
     "output_type": "execute_result"
    }
   ],
   "source": [
    "fib(33)"
   ]
  },
  {
   "cell_type": "code",
   "execution_count": 21,
   "id": "16636f46-bdd6-49d9-8697-5d28de708b93",
   "metadata": {},
   "outputs": [],
   "source": [
    "sum_of_evens = 0\n",
    "a = 1\n",
    "b = 2\n",
    "for i in range(2,33):\n",
    "    n = fib(i)\n",
    "    if n % 2 == 0:\n",
    "        sum_of_evens = sum_of_evens + n"
   ]
  },
  {
   "cell_type": "code",
   "execution_count": 22,
   "id": "46f4d4ce-2c09-4250-aab2-aabd5ff451d7",
   "metadata": {},
   "outputs": [
    {
     "data": {
      "text/plain": [
       "4613732"
      ]
     },
     "execution_count": 22,
     "metadata": {},
     "output_type": "execute_result"
    }
   ],
   "source": [
    "sum_of_evens"
   ]
  },
  {
   "cell_type": "code",
   "execution_count": 41,
   "id": "7563425c-7ce5-4b7f-bb82-a17ecfbab223",
   "metadata": {},
   "outputs": [],
   "source": [
    "sum_of_evens = 2\n",
    "a = 1\n",
    "b = 2\n",
    "while True:\n",
    "    h = a + b\n",
    "    if h > 4000000:\n",
    "        break\n",
    "    if h % 2 == 0:\n",
    "        sum_of_evens = sum_of_evens + h\n",
    "    a = b\n",
    "    b = h"
   ]
  },
  {
   "cell_type": "code",
   "execution_count": 42,
   "id": "f86c9e84-920a-40b5-bba4-aa3b11ac00ff",
   "metadata": {},
   "outputs": [
    {
     "data": {
      "text/plain": [
       "4613732"
      ]
     },
     "execution_count": 42,
     "metadata": {},
     "output_type": "execute_result"
    }
   ],
   "source": [
    "sum_of_evens"
   ]
  },
  {
   "cell_type": "markdown",
   "id": "6f7cabde-b0e8-427a-8669-7f9c525e3679",
   "metadata": {},
   "source": [
    "# Problem 3"
   ]
  },
  {
   "cell_type": "code",
   "execution_count": 17,
   "id": "20add885-2484-480f-a621-8fbcc8144279",
   "metadata": {},
   "outputs": [
    {
     "data": {
      "text/plain": [
       "775146.0992245268"
      ]
     },
     "execution_count": 17,
     "metadata": {},
     "output_type": "execute_result"
    }
   ],
   "source": [
    "import math\n",
    "math.sqrt(600851475143)"
   ]
  },
  {
   "cell_type": "code",
   "execution_count": 21,
   "id": "45cbea80-2aea-4f55-9672-869cc8e5ac05",
   "metadata": {},
   "outputs": [],
   "source": [
    "I = list(range(775146))"
   ]
  },
  {
   "cell_type": "code",
   "execution_count": 22,
   "id": "741b88fd-0f7e-4ee9-ba40-5f1b497e0000",
   "metadata": {},
   "outputs": [],
   "source": [
    "for k in I:\n",
    "    if k < 2:\n",
    "        continue\n",
    "    l = 2\n",
    "    while l*k < len(I):\n",
    "        I[l*k] = 0\n",
    "        l = l + 1"
   ]
  },
  {
   "cell_type": "code",
   "execution_count": 23,
   "id": "605342b8-b203-4567-b5be-29edd1f77ec0",
   "metadata": {},
   "outputs": [
    {
     "data": {
      "text/plain": [
       "775121"
      ]
     },
     "execution_count": 23,
     "metadata": {},
     "output_type": "execute_result"
    }
   ],
   "source": [
    "P = []\n",
    "for i in I:\n",
    "    if i > 0:\n",
    "        P.append(i)\n",
    "P[-1]"
   ]
  },
  {
   "cell_type": "markdown",
   "id": "087c9fe2-9660-42ed-9975-dea6e61389ac",
   "metadata": {},
   "source": [
    "we now have primes."
   ]
  },
  {
   "cell_type": "code",
   "execution_count": 24,
   "id": "3eaf9f48-5863-428d-939a-b23505de10e6",
   "metadata": {},
   "outputs": [
    {
     "data": {
      "text/plain": [
       "6857"
      ]
     },
     "execution_count": 24,
     "metadata": {},
     "output_type": "execute_result"
    }
   ],
   "source": [
    "largest_prime = P[0]\n",
    "for p in P:\n",
    "    if 600851475143 % p == 0:\n",
    "        largest_prime = p\n",
    "largest_prime"
   ]
  },
  {
   "cell_type": "markdown",
   "id": "060d0779-beab-4b8f-b2a6-aac2584350f7",
   "metadata": {},
   "source": [
    "# Problem 4"
   ]
  },
  {
   "cell_type": "markdown",
   "id": "66209471-40b1-4847-a9fd-b9b5cd719cb4",
   "metadata": {},
   "source": [
    "This is about as fast as you can get!"
   ]
  },
  {
   "cell_type": "code",
   "execution_count": 188,
   "id": "9722258e-7fe3-44e9-8467-b1142188092e",
   "metadata": {},
   "outputs": [],
   "source": [
    "largest_palindrome = 0\n",
    "for k in range(999, 99,-1):\n",
    "    for l in range(k, 99, -1):\n",
    "        n = k * l\n",
    "        # we can quit early by starting with largest numbers first.\n",
    "        if n < largest_palindrome:\n",
    "            break\n",
    "        s = list(str(n))\n",
    "        if s[:len(s) // 2] == s[-1:(len(s) - 1)// 2:-1] and n > largest_palindrome:\n",
    "            largest_palindrome = n"
   ]
  },
  {
   "cell_type": "code",
   "execution_count": 189,
   "id": "43539798-15f3-4d11-8bc9-34bc3612e6dc",
   "metadata": {},
   "outputs": [
    {
     "data": {
      "text/plain": [
       "10000"
      ]
     },
     "execution_count": 189,
     "metadata": {},
     "output_type": "execute_result"
    }
   ],
   "source": [
    "n"
   ]
  },
  {
   "cell_type": "code",
   "execution_count": 190,
   "id": "8568363d-20d9-4e55-a267-56a6f8c70854",
   "metadata": {},
   "outputs": [
    {
     "data": {
      "text/plain": [
       "906609"
      ]
     },
     "execution_count": 190,
     "metadata": {},
     "output_type": "execute_result"
    }
   ],
   "source": [
    "largest_palindrome"
   ]
  },
  {
   "cell_type": "code",
   "execution_count": 191,
   "id": "0de36457-9625-435e-bdcc-e778bf7ea23d",
   "metadata": {},
   "outputs": [
    {
     "data": {
      "text/plain": [
       "['1', '0', '0', '1']"
      ]
     },
     "execution_count": 191,
     "metadata": {},
     "output_type": "execute_result"
    }
   ],
   "source": [
    "L = list(str(1001))\n",
    "L"
   ]
  },
  {
   "cell_type": "code",
   "execution_count": 192,
   "id": "cef3206c-e507-463a-89b2-84d811579362",
   "metadata": {},
   "outputs": [
    {
     "data": {
      "text/plain": [
       "[0, 1]"
      ]
     },
     "execution_count": 192,
     "metadata": {},
     "output_type": "execute_result"
    }
   ],
   "source": [
    "list(range(len(L)//2))"
   ]
  },
  {
   "cell_type": "code",
   "execution_count": 193,
   "id": "cddd61b3-3656-4bd4-8fb9-b0d751ab5779",
   "metadata": {},
   "outputs": [
    {
     "data": {
      "text/plain": [
       "True"
      ]
     },
     "execution_count": 193,
     "metadata": {},
     "output_type": "execute_result"
    }
   ],
   "source": [
    "[1,2,3] == [1,2,3]"
   ]
  },
  {
   "cell_type": "code",
   "execution_count": 194,
   "id": "90982863-3197-4b75-911f-8a25b0f308b7",
   "metadata": {},
   "outputs": [
    {
     "data": {
      "text/plain": [
       "['1', '0']"
      ]
     },
     "execution_count": 194,
     "metadata": {},
     "output_type": "execute_result"
    }
   ],
   "source": [
    "A = L[:len(L) // 2]\n",
    "A"
   ]
  },
  {
   "cell_type": "code",
   "execution_count": 149,
   "id": "8507274f-044d-4580-b429-ac05dd59db52",
   "metadata": {},
   "outputs": [
    {
     "data": {
      "text/plain": [
       "['1', '0']"
      ]
     },
     "execution_count": 149,
     "metadata": {},
     "output_type": "execute_result"
    }
   ],
   "source": [
    "B = L[-1: (len(L) - 1)// 2 :-1]\n",
    "B"
   ]
  },
  {
   "cell_type": "code",
   "execution_count": 195,
   "id": "19803caa-4156-45fb-ae72-1067b1271343",
   "metadata": {},
   "outputs": [
    {
     "data": {
      "text/plain": [
       "True"
      ]
     },
     "execution_count": 195,
     "metadata": {},
     "output_type": "execute_result"
    }
   ],
   "source": [
    "A == B"
   ]
  },
  {
   "cell_type": "code",
   "execution_count": 196,
   "id": "59dbd923-b9b2-47de-88d4-b39b46368cdd",
   "metadata": {},
   "outputs": [
    {
     "data": {
      "text/plain": [
       "998001"
      ]
     },
     "execution_count": 196,
     "metadata": {},
     "output_type": "execute_result"
    }
   ],
   "source": [
    "999*999"
   ]
  },
  {
   "cell_type": "code",
   "execution_count": 197,
   "id": "81772c40-3694-49f9-b4f9-8d1a980c442c",
   "metadata": {},
   "outputs": [
    {
     "data": {
      "text/plain": [
       "2"
      ]
     },
     "execution_count": 197,
     "metadata": {},
     "output_type": "execute_result"
    }
   ],
   "source": [
    "len(L) // 2"
   ]
  },
  {
   "cell_type": "markdown",
   "id": "05d8bf00-02d0-4948-a671-5cbe68ad538c",
   "metadata": {},
   "source": [
    "# Problem 5"
   ]
  },
  {
   "cell_type": "code",
   "execution_count": 24,
   "id": "5fe7ca18-d3a5-4ae5-8954-cffc5f7423e3",
   "metadata": {},
   "outputs": [
    {
     "name": "stdout",
     "output_type": "stream",
     "text": [
      "232792560\n"
     ]
    }
   ],
   "source": [
    "for i in range(100000000,1000000000):\n",
    "    div = [False] * 10\n",
    "    for k in range(11,21):\n",
    "        if i % k == 0:\n",
    "            div[k-11] = True\n",
    "        else:\n",
    "            break\n",
    "    if all(div):\n",
    "        print(i)\n",
    "        break"
   ]
  },
  {
   "cell_type": "code",
   "execution_count": 17,
   "id": "3d514392-6fc2-4f5f-a9b7-7044e6798a2b",
   "metadata": {},
   "outputs": [
    {
     "data": {
      "text/plain": [
       "[11, 12, 13, 14, 15, 16, 17, 18, 19, 20]"
      ]
     },
     "execution_count": 17,
     "metadata": {},
     "output_type": "execute_result"
    }
   ],
   "source": [
    "list(range(11,21))"
   ]
  },
  {
   "cell_type": "markdown",
   "id": "1af92669-3856-413e-a85b-0f3733161316",
   "metadata": {},
   "source": [
    "We could have done this by hand.\n",
    "\n",
    "11 = 11 \\\n",
    "12 = 3 x 4 \\\n",
    "13 = 13 \\\n",
    "14 = 2 x 7 \\\n",
    "15 = 3 x 5 \\\n",
    "16 = 2 x 2 x 2 x 2 \\\n",
    "17 = 17 \\\n",
    "18 = 2 x 3 x 3 \\\n",
    "19 = 19 \\\n",
    "20 = 2 x 2 x 5 \n",
    "\n",
    "Hence LCM = 2 ** 4 x 3 ** 2 x 5 x 7 x 11 x 13 x 17 x 19 "
   ]
  },
  {
   "cell_type": "code",
   "execution_count": 25,
   "id": "a7d6c02f-af2b-4aef-ad8b-3dd4643632a5",
   "metadata": {},
   "outputs": [],
   "source": [
    "LCM = 2**4 * 3**2 * 5 * 7 * 11 * 13 * 17 * 19 "
   ]
  },
  {
   "cell_type": "code",
   "execution_count": 27,
   "id": "18cb4efa-b716-4ace-861b-16b4694774fd",
   "metadata": {},
   "outputs": [
    {
     "data": {
      "text/plain": [
       "232792560"
      ]
     },
     "execution_count": 27,
     "metadata": {},
     "output_type": "execute_result"
    }
   ],
   "source": [
    "LCM"
   ]
  },
  {
   "cell_type": "markdown",
   "id": "4c0b545a-347f-435d-b4e3-42698bb9ba35",
   "metadata": {},
   "source": [
    "# Problem 6"
   ]
  },
  {
   "cell_type": "code",
   "execution_count": 28,
   "id": "9e528741-55e5-4535-a0a7-b07ab733095c",
   "metadata": {},
   "outputs": [
    {
     "data": {
      "text/plain": [
       "25164150"
      ]
     },
     "execution_count": 28,
     "metadata": {},
     "output_type": "execute_result"
    }
   ],
   "source": [
    "S1 = 0\n",
    "S2 = 0\n",
    "for i in range(1,101):\n",
    "    S1 = S1 + i**2\n",
    "    S2 = S2 + i\n",
    "S2 = S2 ** 2\n",
    "S2 - S1"
   ]
  },
  {
   "cell_type": "code",
   "execution_count": null,
   "id": "402c48c3-d260-4ac2-84d1-d04ea1a55596",
   "metadata": {},
   "outputs": [],
   "source": []
  }
 ],
 "metadata": {
  "kernelspec": {
   "display_name": "Python 3 (ipykernel)",
   "language": "python",
   "name": "python3"
  },
  "language_info": {
   "codemirror_mode": {
    "name": "ipython",
    "version": 3
   },
   "file_extension": ".py",
   "mimetype": "text/x-python",
   "name": "python",
   "nbconvert_exporter": "python",
   "pygments_lexer": "ipython3",
   "version": "3.11.2"
  }
 },
 "nbformat": 4,
 "nbformat_minor": 5
}
