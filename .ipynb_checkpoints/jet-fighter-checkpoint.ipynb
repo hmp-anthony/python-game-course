{
 "cells": [
  {
   "cell_type": "code",
   "execution_count": 21,
   "id": "155749ae-073b-45ff-be90-ed812a1e9f75",
   "metadata": {},
   "outputs": [
    {
     "name": "stdout",
     "output_type": "stream",
     "text": [
      "pressed down\n",
      "key raised\n",
      "pressed down\n",
      "key raised\n"
     ]
    }
   ],
   "source": [
    "# Import the pygame module\n",
    "import pygame\n",
    "\n",
    "# Import pygame.locals for easier access to key coordinates\n",
    "# Updated to conform to flake8 and black standards\n",
    "from pygame.locals import (\n",
    "    K_UP,\n",
    "    K_DOWN,\n",
    "    K_LEFT,\n",
    "    K_RIGHT,\n",
    "    K_ESCAPE,\n",
    "    KEYUP,\n",
    "    KEYDOWN,\n",
    "    QUIT,\n",
    ")\n",
    "\n",
    "# Initialize pygame\n",
    "pygame.init()\n",
    "\n",
    "# Define constants for the screen width and height\n",
    "SCREEN_WIDTH = 800\n",
    "SCREEN_HEIGHT = 600\n",
    "\n",
    "# Create the screen object\n",
    "# The size is determined by the constant SCREEN_WIDTH and SCREEN_HEIGHT\n",
    "screen = pygame.display.set_mode((SCREEN_WIDTH, SCREEN_HEIGHT))\n",
    "\n",
    "# Variable to keep the main loop running\n",
    "running = True\n",
    "\n",
    "# Main loop\n",
    "while running:\n",
    "    # Look at every event in the queue\n",
    "    for event in pygame.event.get():\n",
    "        # Did the user hit a key?\n",
    "        if event.type == KEYDOWN or event.type == KEYUP:\n",
    "            # Was it the Escape key? If so, stop the loop.\n",
    "            if event.key == K_ESCAPE:\n",
    "                print(\"pressed escape\")\n",
    "                running = False\n",
    "            if event.key == K_DOWN:\n",
    "                if(event.type == KEYUP):\n",
    "                    print(\"key raised\")\n",
    "                else:\n",
    "                    print(\"pressed down\")\n",
    "            if event.key == K_UP:\n",
    "                if(event.type == KEYUP):\n",
    "                    print(\"key raised\")\n",
    "                else:\n",
    "                    print (\"pressed up\")\n",
    "            if event.key == K_LEFT:\n",
    "                if(event.type == KEYUP):\n",
    "                    print(\"key raised\")\n",
    "                else:\n",
    "                    print (\"pressed left\")\n",
    "            if event.key == K_RIGHT:\n",
    "                if(event.type == KEYUP):\n",
    "                    print(\"key raised\")\n",
    "                else:\n",
    "                    print (\"pressed right\")\n",
    "                    \n",
    "        # Did the user click the window close button? If so, stop the loop.\n",
    "        elif event.type == QUIT:\n",
    "            running = False\n",
    "\n",
    "    # Fill the screen with white\n",
    "    screen.fill((255, 255, 255))\n",
    "\n",
    "    # Create a surface and pass in a tuple containing its length and width\n",
    "    surf = pygame.Surface((100, 50))\n",
    "\n",
    "    # Give the surface a color to separate it from the background\n",
    "    surf.fill((0, 0, 0))\n",
    "    rect = surf.get_rect()\n",
    "    # This line says \"Draw surf onto the screen at the center\"\n",
    "    screen.blit(surf, (SCREEN_WIDTH/2, SCREEN_HEIGHT/2))\n",
    "    pygame.display.flip()\n",
    "            \n",
    "pygame.quit()"
   ]
  },
  {
   "cell_type": "code",
   "execution_count": 20,
   "id": "a0af4fb7-24c9-4c5c-a63e-1da36e94fc1d",
   "metadata": {},
   "outputs": [
    {
     "name": "stdout",
     "output_type": "stream",
     "text": [
      "Hi 5\n"
     ]
    }
   ],
   "source": [
    "\n",
    "\n",
    "number = 5\n",
    "if number == 5:\n",
    "    print(\"Hi 5\")\n",
    "else:\n",
    "    print(\"not 5\")\n",
    "\n"
   ]
  },
  {
   "cell_type": "code",
   "execution_count": null,
   "id": "610f46fe-e3e0-4b0c-aab7-e511597a5d80",
   "metadata": {},
   "outputs": [],
   "source": []
  }
 ],
 "metadata": {
  "kernelspec": {
   "display_name": "Python 3 (ipykernel)",
   "language": "python",
   "name": "python3"
  },
  "language_info": {
   "codemirror_mode": {
    "name": "ipython",
    "version": 3
   },
   "file_extension": ".py",
   "mimetype": "text/x-python",
   "name": "python",
   "nbconvert_exporter": "python",
   "pygments_lexer": "ipython3",
   "version": "3.11.2"
  }
 },
 "nbformat": 4,
 "nbformat_minor": 5
}
