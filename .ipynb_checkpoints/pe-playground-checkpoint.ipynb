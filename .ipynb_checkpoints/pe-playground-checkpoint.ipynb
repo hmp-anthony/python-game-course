{
 "cells": [
  {
   "cell_type": "markdown",
   "id": "8b7c54f5-3e91-446f-999d-ace1dbd3dbac",
   "metadata": {},
   "source": [
    "# Problem 2"
   ]
  },
  {
   "cell_type": "code",
   "execution_count": 1,
   "id": "17675636-4541-43ca-8240-e16cb5369376",
   "metadata": {},
   "outputs": [],
   "source": [
    "def fib(n):\n",
    "    if n == 1:\n",
    "        return 1\n",
    "    if n == 2:\n",
    "        return 2\n",
    "    return fib(n - 1) + fib(n - 2)\n"
   ]
  },
  {
   "cell_type": "code",
   "execution_count": 12,
   "id": "78b19de0-28c8-49bd-9c19-5b0014e0be72",
   "metadata": {},
   "outputs": [
    {
     "data": {
      "text/plain": [
       "3524578"
      ]
     },
     "execution_count": 12,
     "metadata": {},
     "output_type": "execute_result"
    }
   ],
   "source": [
    "fib(32)"
   ]
  },
  {
   "cell_type": "code",
   "execution_count": 13,
   "id": "397feecc-09d5-4617-8a7c-047186b5fddc",
   "metadata": {},
   "outputs": [
    {
     "data": {
      "text/plain": [
       "5702887"
      ]
     },
     "execution_count": 13,
     "metadata": {},
     "output_type": "execute_result"
    }
   ],
   "source": [
    "fib(33)"
   ]
  },
  {
   "cell_type": "code",
   "execution_count": 21,
   "id": "16636f46-bdd6-49d9-8697-5d28de708b93",
   "metadata": {},
   "outputs": [],
   "source": [
    "sum_of_evens = 0\n",
    "a = 1\n",
    "b = 2\n",
    "for i in range(2,33):\n",
    "    n = fib(i)\n",
    "    if n % 2 == 0:\n",
    "        sum_of_evens = sum_of_evens + n"
   ]
  },
  {
   "cell_type": "code",
   "execution_count": 22,
   "id": "46f4d4ce-2c09-4250-aab2-aabd5ff451d7",
   "metadata": {},
   "outputs": [
    {
     "data": {
      "text/plain": [
       "4613732"
      ]
     },
     "execution_count": 22,
     "metadata": {},
     "output_type": "execute_result"
    }
   ],
   "source": [
    "sum_of_evens"
   ]
  },
  {
   "cell_type": "code",
   "execution_count": 41,
   "id": "7563425c-7ce5-4b7f-bb82-a17ecfbab223",
   "metadata": {},
   "outputs": [],
   "source": [
    "sum_of_evens = 2\n",
    "a = 1\n",
    "b = 2\n",
    "while True:\n",
    "    h = a + b\n",
    "    if h > 4000000:\n",
    "        break\n",
    "    if h % 2 == 0:\n",
    "        sum_of_evens = sum_of_evens + h\n",
    "    a = b\n",
    "    b = h"
   ]
  },
  {
   "cell_type": "code",
   "execution_count": 42,
   "id": "f86c9e84-920a-40b5-bba4-aa3b11ac00ff",
   "metadata": {},
   "outputs": [
    {
     "data": {
      "text/plain": [
       "4613732"
      ]
     },
     "execution_count": 42,
     "metadata": {},
     "output_type": "execute_result"
    }
   ],
   "source": [
    "sum_of_evens"
   ]
  },
  {
   "cell_type": "code",
   "execution_count": null,
   "id": "f63895d4-7686-4139-9882-c71138af9a70",
   "metadata": {},
   "outputs": [],
   "source": []
  },
  {
   "cell_type": "code",
   "execution_count": null,
   "id": "20add885-2484-480f-a621-8fbcc8144279",
   "metadata": {},
   "outputs": [],
   "source": []
  }
 ],
 "metadata": {
  "kernelspec": {
   "display_name": "Python 3 (ipykernel)",
   "language": "python",
   "name": "python3"
  },
  "language_info": {
   "codemirror_mode": {
    "name": "ipython",
    "version": 3
   },
   "file_extension": ".py",
   "mimetype": "text/x-python",
   "name": "python",
   "nbconvert_exporter": "python",
   "pygments_lexer": "ipython3",
   "version": "3.11.2"
  }
 },
 "nbformat": 4,
 "nbformat_minor": 5
}
